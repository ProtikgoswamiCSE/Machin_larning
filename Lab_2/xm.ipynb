{
  "cells": [
    {
      "cell_type": "markdown",
      "metadata": {
        "id": "An1g4ed7jfGM"
      },
      "source": [
        "Name:**Protik Goswami**\n",
        "\n"
      ]
    },
    {
      "cell_type": "markdown",
      "metadata": {
        "id": "0QtOoXGAdxT5"
      },
      "source": [
        "Part A: Short Questions (10 Marks)"
      ]
    },
    {
      "cell_type": "markdown",
      "metadata": {
        "id": "iLjFIyj8d2Wx"
      },
      "source": [
        "Q1."
      ]
    },
    {
      "cell_type": "code",
      "execution_count": null,
      "metadata": {
        "id": "zrqbJh8ddtfz"
      },
      "outputs": [],
      "source": [
        "def filter_even_numbers(numbers):\n",
        "    return list(filter(lambda x: x % 2 == 0, numbers))\n",
        "numbers = [1, 2, 3, 4, 5, 6, 7, 8]\n",
        "result = filter_even_numbers(numbers)\n",
        "print(result)  # Output: [2, 4, 6, 8]\n"
      ]
    },
    {
      "cell_type": "markdown",
      "metadata": {
        "id": "hhT5Yqykd5x6"
      },
      "source": [
        "Q2."
      ]
    },
    {
      "cell_type": "code",
      "execution_count": null,
      "metadata": {
        "id": "WraipWAxdvXi"
      },
      "outputs": [],
      "source": [
        "cubes = [x**3 for x in range(1, 8) if (x**3) % 3 == 0]\n",
        "\n",
        "print(cubes)  # Output: [27, 216]\n"
      ]
    },
    {
      "cell_type": "markdown",
      "metadata": {
        "id": "DNcb0lZnd_Xy"
      },
      "source": [
        "Q3."
      ]
    },
    {
      "cell_type": "code",
      "execution_count": null,
      "metadata": {
        "id": "yC4kWrkSeBQK"
      },
      "outputs": [],
      "source": [
        "import numpy as np\n",
        "matrix = np.random.rand(3, 3)\n",
        "\n",
        "transpose = matrix.T\n",
        "determinant = np.linalg.det(matrix)\n",
        "\n",
        "print(\"Matrix:\\n\", matrix)\n",
        "print(\"Transpose:\\n\", transpose)\n",
        "print(\"Determinant:\", determinant)\n"
      ]
    },
    {
      "cell_type": "markdown",
      "metadata": {
        "id": "Z02D1BlbeFRy"
      },
      "source": [
        "Q4."
      ]
    },
    {
      "cell_type": "code",
      "execution_count": null,
      "metadata": {
        "id": "5bNVcvBJeF76"
      },
      "outputs": [],
      "source": [
        "import pandas as pd\n",
        "\n",
        "data = {\n",
        "    'Name': ['Alice', 'Bob', 'Charlie', 'David', 'Eve'],\n",
        "    'Score': [75, 45, 82, 39, 90]\n",
        "}\n",
        "df = pd.DataFrame(data)\n",
        "\n",
        "df['Passed'] = df['Score'] > 50\n",
        "\n",
        "passed_students = df[df['Passed']]\n",
        "\n",
        "print(passed_students)\n"
      ]
    },
    {
      "cell_type": "markdown",
      "metadata": {
        "id": "PEnF91rdeJ8q"
      },
      "source": [
        "Q5."
      ]
    },
    {
      "cell_type": "code",
      "execution_count": null,
      "metadata": {
        "id": "S4xWOMpaeNMy"
      },
      "outputs": [],
      "source": [
        "squares_dict = {x: x**2 for x in range(1, 6)}\n",
        "\n",
        "print(squares_dict)\n"
      ]
    },
    {
      "cell_type": "markdown",
      "metadata": {
        "id": "w0U83gLVfPQ6"
      },
      "source": [
        "Part B: Scenario-Based Questions (10 Marks)"
      ]
    },
    {
      "cell_type": "markdown",
      "metadata": {
        "id": "eKBfmLLEfShq"
      },
      "source": [
        "Q6."
      ]
    },
    {
      "cell_type": "code",
      "execution_count": null,
      "metadata": {
        "id": "nsxZEVG6fX1C"
      },
      "outputs": [],
      "source": [
        "import pandas as pd"
      ]
    },
    {
      "cell_type": "code",
      "execution_count": null,
      "metadata": {
        "id": "5U9xIub3f6ND"
      },
      "outputs": [],
      "source": [
        "from google.colab import drive\n",
        "drive.mount('/content/drive')"
      ]
    },
    {
      "cell_type": "code",
      "execution_count": null,
      "metadata": {
        "id": "CMglwoXUfaqK"
      },
      "outputs": [],
      "source": [
        "# 1. Load the CSV into a DataFrame\n",
        "df = pd.read_csv('/content/drive/MyDrive/Protik/project_ml/xm/weather_data.csv')"
      ]
    },
    {
      "cell_type": "code",
      "execution_count": null,
      "metadata": {
        "id": "YbcTwxFZh7Gc"
      },
      "outputs": [],
      "source": [
        "df"
      ]
    },
    {
      "cell_type": "code",
      "execution_count": null,
      "metadata": {
        "id": "wcWx0UWQfnh7"
      },
      "outputs": [],
      "source": [
        "# 2. Compute the average temperature for each city\n",
        "average_temp = df.groupby('City')['Temperature (°C)'].mean()"
      ]
    },
    {
      "cell_type": "code",
      "execution_count": null,
      "metadata": {
        "id": "SrMh4dKcgSjz"
      },
      "outputs": [],
      "source": [
        "print(\"Average temperatures for each city:\\n\", average_temp)"
      ]
    },
    {
      "cell_type": "code",
      "execution_count": null,
      "metadata": {
        "id": "_Tg_i0HifrC6"
      },
      "outputs": [],
      "source": [
        "# 3. Add a new column Temperature (°F) using the formula: °F = °C × 1.8 + 32\n",
        "df['Temperature (°F)'] = df['Temperature (°C)'] * 1.8 + 32"
      ]
    },
    {
      "cell_type": "code",
      "execution_count": null,
      "metadata": {
        "id": "qSfJ_2G6gZ3z"
      },
      "outputs": [],
      "source": [
        "print(\"\\nCity with the highest average temperature:\", city_with_highest_avg_temp)"
      ]
    },
    {
      "cell_type": "code",
      "execution_count": null,
      "metadata": {
        "id": "WD_DnHCzfrJ1"
      },
      "outputs": [],
      "source": [
        "# 4. Display the city with the highest average temperature\n",
        "city_with_highest_avg_temp = average_temp.idxmax()\n",
        "highest_avg_temp = average_temp.max()"
      ]
    },
    {
      "cell_type": "code",
      "execution_count": null,
      "metadata": {
        "id": "onUlNajwgd7b"
      },
      "outputs": [],
      "source": [
        "print(\"Highest average temperature (°C):\", highest_avg_temp)\n",
        "\n",
        "# Optionally, display the updated DataFrame with the new Temperature (°F) column\n",
        "print(\"\\nUpdated DataFrame with Temperature (°F):\\n\", df)"
      ]
    },
    {
      "cell_type": "code",
      "execution_count": null,
      "metadata": {
        "id": "5pVY12HyfvJK"
      },
      "outputs": [],
      "source": [
        "# Display the results\n",
        "print(\"Average temperatures for each city:\\n\", average_temp)\n",
        "print(\"\\nCity with the highest average temperature:\", city_with_highest_avg_temp)\n",
        "print(\"Highest average temperature (°C):\", highest_avg_temp)\n",
        "\n",
        "# Optionally, display the updated DataFrame with the new Temperature (°F) column\n",
        "print(\"\\nUpdated DataFrame with Temperature (°F):\\n\", df)"
      ]
    },
    {
      "cell_type": "markdown",
      "metadata": {
        "id": "DUM28mS_gwvO"
      },
      "source": [
        "Q7.   \n",
        "weather_data.csv\n",
        "used"
      ]
    },
    {
      "cell_type": "code",
      "execution_count": null,
      "metadata": {
        "colab": {
          "background_save": true,
          "base_uri": "https://localhost:8080/",
          "height": 38
        },
        "id": "dehCgq0LlNxV",
        "outputId": "f1e019e8-1bd2-45ac-9a0d-ea7c2458b823"
      },
      "outputs": [
        {
          "data": {
            "text/html": [
              "\n",
              "     <input type=\"file\" id=\"files-8e6b2423-1cb1-4bad-a7b5-9b42f227d7d1\" name=\"files[]\" multiple disabled\n",
              "        style=\"border:none\" />\n",
              "     <output id=\"result-8e6b2423-1cb1-4bad-a7b5-9b42f227d7d1\">\n",
              "      Upload widget is only available when the cell has been executed in the\n",
              "      current browser session. Please rerun this cell to enable.\n",
              "      </output>\n",
              "      <script>// Copyright 2017 Google LLC\n",
              "//\n",
              "// Licensed under the Apache License, Version 2.0 (the \"License\");\n",
              "// you may not use this file except in compliance with the License.\n",
              "// You may obtain a copy of the License at\n",
              "//\n",
              "//      http://www.apache.org/licenses/LICENSE-2.0\n",
              "//\n",
              "// Unless required by applicable law or agreed to in writing, software\n",
              "// distributed under the License is distributed on an \"AS IS\" BASIS,\n",
              "// WITHOUT WARRANTIES OR CONDITIONS OF ANY KIND, either express or implied.\n",
              "// See the License for the specific language governing permissions and\n",
              "// limitations under the License.\n",
              "\n",
              "/**\n",
              " * @fileoverview Helpers for google.colab Python module.\n",
              " */\n",
              "(function(scope) {\n",
              "function span(text, styleAttributes = {}) {\n",
              "  const element = document.createElement('span');\n",
              "  element.textContent = text;\n",
              "  for (const key of Object.keys(styleAttributes)) {\n",
              "    element.style[key] = styleAttributes[key];\n",
              "  }\n",
              "  return element;\n",
              "}\n",
              "\n",
              "// Max number of bytes which will be uploaded at a time.\n",
              "const MAX_PAYLOAD_SIZE = 100 * 1024;\n",
              "\n",
              "function _uploadFiles(inputId, outputId) {\n",
              "  const steps = uploadFilesStep(inputId, outputId);\n",
              "  const outputElement = document.getElementById(outputId);\n",
              "  // Cache steps on the outputElement to make it available for the next call\n",
              "  // to uploadFilesContinue from Python.\n",
              "  outputElement.steps = steps;\n",
              "\n",
              "  return _uploadFilesContinue(outputId);\n",
              "}\n",
              "\n",
              "// This is roughly an async generator (not supported in the browser yet),\n",
              "// where there are multiple asynchronous steps and the Python side is going\n",
              "// to poll for completion of each step.\n",
              "// This uses a Promise to block the python side on completion of each step,\n",
              "// then passes the result of the previous step as the input to the next step.\n",
              "function _uploadFilesContinue(outputId) {\n",
              "  const outputElement = document.getElementById(outputId);\n",
              "  const steps = outputElement.steps;\n",
              "\n",
              "  const next = steps.next(outputElement.lastPromiseValue);\n",
              "  return Promise.resolve(next.value.promise).then((value) => {\n",
              "    // Cache the last promise value to make it available to the next\n",
              "    // step of the generator.\n",
              "    outputElement.lastPromiseValue = value;\n",
              "    return next.value.response;\n",
              "  });\n",
              "}\n",
              "\n",
              "/**\n",
              " * Generator function which is called between each async step of the upload\n",
              " * process.\n",
              " * @param {string} inputId Element ID of the input file picker element.\n",
              " * @param {string} outputId Element ID of the output display.\n",
              " * @return {!Iterable<!Object>} Iterable of next steps.\n",
              " */\n",
              "function* uploadFilesStep(inputId, outputId) {\n",
              "  const inputElement = document.getElementById(inputId);\n",
              "  inputElement.disabled = false;\n",
              "\n",
              "  const outputElement = document.getElementById(outputId);\n",
              "  outputElement.innerHTML = '';\n",
              "\n",
              "  const pickedPromise = new Promise((resolve) => {\n",
              "    inputElement.addEventListener('change', (e) => {\n",
              "      resolve(e.target.files);\n",
              "    });\n",
              "  });\n",
              "\n",
              "  const cancel = document.createElement('button');\n",
              "  inputElement.parentElement.appendChild(cancel);\n",
              "  cancel.textContent = 'Cancel upload';\n",
              "  const cancelPromise = new Promise((resolve) => {\n",
              "    cancel.onclick = () => {\n",
              "      resolve(null);\n",
              "    };\n",
              "  });\n",
              "\n",
              "  // Wait for the user to pick the files.\n",
              "  const files = yield {\n",
              "    promise: Promise.race([pickedPromise, cancelPromise]),\n",
              "    response: {\n",
              "      action: 'starting',\n",
              "    }\n",
              "  };\n",
              "\n",
              "  cancel.remove();\n",
              "\n",
              "  // Disable the input element since further picks are not allowed.\n",
              "  inputElement.disabled = true;\n",
              "\n",
              "  if (!files) {\n",
              "    return {\n",
              "      response: {\n",
              "        action: 'complete',\n",
              "      }\n",
              "    };\n",
              "  }\n",
              "\n",
              "  for (const file of files) {\n",
              "    const li = document.createElement('li');\n",
              "    li.append(span(file.name, {fontWeight: 'bold'}));\n",
              "    li.append(span(\n",
              "        `(${file.type || 'n/a'}) - ${file.size} bytes, ` +\n",
              "        `last modified: ${\n",
              "            file.lastModifiedDate ? file.lastModifiedDate.toLocaleDateString() :\n",
              "                                    'n/a'} - `));\n",
              "    const percent = span('0% done');\n",
              "    li.appendChild(percent);\n",
              "\n",
              "    outputElement.appendChild(li);\n",
              "\n",
              "    const fileDataPromise = new Promise((resolve) => {\n",
              "      const reader = new FileReader();\n",
              "      reader.onload = (e) => {\n",
              "        resolve(e.target.result);\n",
              "      };\n",
              "      reader.readAsArrayBuffer(file);\n",
              "    });\n",
              "    // Wait for the data to be ready.\n",
              "    let fileData = yield {\n",
              "      promise: fileDataPromise,\n",
              "      response: {\n",
              "        action: 'continue',\n",
              "      }\n",
              "    };\n",
              "\n",
              "    // Use a chunked sending to avoid message size limits. See b/62115660.\n",
              "    let position = 0;\n",
              "    do {\n",
              "      const length = Math.min(fileData.byteLength - position, MAX_PAYLOAD_SIZE);\n",
              "      const chunk = new Uint8Array(fileData, position, length);\n",
              "      position += length;\n",
              "\n",
              "      const base64 = btoa(String.fromCharCode.apply(null, chunk));\n",
              "      yield {\n",
              "        response: {\n",
              "          action: 'append',\n",
              "          file: file.name,\n",
              "          data: base64,\n",
              "        },\n",
              "      };\n",
              "\n",
              "      let percentDone = fileData.byteLength === 0 ?\n",
              "          100 :\n",
              "          Math.round((position / fileData.byteLength) * 100);\n",
              "      percent.textContent = `${percentDone}% done`;\n",
              "\n",
              "    } while (position < fileData.byteLength);\n",
              "  }\n",
              "\n",
              "  // All done.\n",
              "  yield {\n",
              "    response: {\n",
              "      action: 'complete',\n",
              "    }\n",
              "  };\n",
              "}\n",
              "\n",
              "scope.google = scope.google || {};\n",
              "scope.google.colab = scope.google.colab || {};\n",
              "scope.google.colab._files = {\n",
              "  _uploadFiles,\n",
              "  _uploadFilesContinue,\n",
              "};\n",
              "})(self);\n",
              "</script> "
            ],
            "text/plain": [
              "<IPython.core.display.HTML object>"
            ]
          },
          "metadata": {},
          "output_type": "display_data"
        }
      ],
      "source": [
        "import pandas as pd\n",
        "import matplotlib.pyplot as plt\n",
        "\n",
        "from google.colab import files\n",
        "uploaded = files.upload()\n",
        "data = pd.read_csv('/content/drive/MyDrive/Protik/project_ml/xm/monthly_revenue.csv')\n",
        "\n",
        "\n",
        "months = data['Month']\n",
        "store_a_revenue = data['Store A Revenue (in USD)']\n",
        "store_b_revenue = data['Store B Revenue (in USD)']\n",
        "\n",
        "fig, ax = plt.subplots(figsize=(10, 6))\n",
        "\n",
        "bar_width = 0.35\n",
        "index = range(len(months))\n",
        "\n",
        "bar_a = ax.bar(index, store_a_revenue, bar_width, label='Store A', color='b')\n",
        "bar_b = ax.bar([i + bar_width for i in index], store_b_revenue, bar_width, label='Store B', color='g')\n",
        "\n",
        "ax.set_xlabel('Month', fontsize=12)\n",
        "ax.set_ylabel('Revenue ($)', fontsize=12)\n",
        "ax.set_title('Monthly Revenue Comparison: Store A vs Store B', fontsize=14)\n",
        "ax.set_xticks([i + bar_width / 2 for i in index])\n",
        "ax.set_xticklabels(months)\n",
        "ax.legend()\n",
        "\n",
        "plt.tight_layout()\n",
        "plt.show()"
      ]
    }
  ],
  "metadata": {
    "colab": {
      "provenance": []
    },
    "kernelspec": {
      "display_name": "Python 3",
      "name": "python3"
    },
    "language_info": {
      "name": "python"
    }
  },
  "nbformat": 4,
  "nbformat_minor": 0
}